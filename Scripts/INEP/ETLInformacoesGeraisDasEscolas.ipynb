{
 "cells": [
  {
   "cell_type": "markdown",
   "metadata": {},
   "source": [
    "# Definição de funções e imports necessários"
   ]
  },
  {
   "cell_type": "code",
   "execution_count": 1,
   "metadata": {},
   "outputs": [],
   "source": [
    "import pandas as pd\n",
    "import numpy as np\n",
    "import json\n",
    "import excel2json\n",
    "from geopy.geocoders import Nominatim\n",
    "import pymongo"
   ]
  },
  {
   "cell_type": "markdown",
   "metadata": {},
   "source": [
    "### Funções:"
   ]
  },
  {
   "cell_type": "code",
   "execution_count": 15,
   "metadata": {},
   "outputs": [],
   "source": [
    "def readCSV (path):\n",
    "    return pd.read_csv(path, sep = \";\");\n",
    "\n",
    "def openDataBaseMongoDB ():\n",
    "    client = pymongo.MongoClient(\"mongodb://<ADMIN>:<PASSWORD>@criedata-shard-00-00.urzuu.mongodb.net:27017,criedata-shard-00-01.urzuu.mongodb.net:27017,criedata-shard-00-02.urzuu.mongodb.net:27017/<dbname>?ssl=true&replicaSet=atlas-6db9id-shard-0&authSource=admin&retryWrites=true&w=majority\");\n",
    "    db = client.schoolData;\n",
    "    return db.dataINEPSchools;\n",
    "\n",
    "def dataframeToJSONConverter (dataframe):\n",
    "    dataJSON = dataframe.to_json(orient=\"records\")\n",
    "    return json.loads(dataJSON)"
   ]
  },
  {
   "cell_type": "markdown",
   "metadata": {},
   "source": [
    "### Conexão com o BD:"
   ]
  },
  {
   "cell_type": "code",
   "execution_count": 3,
   "metadata": {},
   "outputs": [],
   "source": [
    "collection = openDataBaseMongoDB()"
   ]
  },
  {
   "cell_type": "markdown",
   "metadata": {},
   "source": [
    "### Extração dos dados"
   ]
  },
  {
   "cell_type": "code",
   "execution_count": 4,
   "metadata": {
    "scrolled": false
   },
   "outputs": [],
   "source": [
    "infoSchools = readCSV(r'C:\\Users\\mbrug\\Desktop\\schoolDataCollectionPelotas\\Datasets\\INEP\\InformacoesGeraisDasEscolas.csv');"
   ]
  },
  {
   "cell_type": "code",
   "execution_count": 5,
   "metadata": {},
   "outputs": [
    {
     "data": {
      "text/html": [
       "<div>\n",
       "<style scoped>\n",
       "    .dataframe tbody tr th:only-of-type {\n",
       "        vertical-align: middle;\n",
       "    }\n",
       "\n",
       "    .dataframe tbody tr th {\n",
       "        vertical-align: top;\n",
       "    }\n",
       "\n",
       "    .dataframe thead th {\n",
       "        text-align: right;\n",
       "    }\n",
       "</style>\n",
       "<table border=\"1\" class=\"dataframe\">\n",
       "  <thead>\n",
       "    <tr style=\"text-align: right;\">\n",
       "      <th></th>\n",
       "      <th>Restrição de Atendimento</th>\n",
       "      <th>Escola</th>\n",
       "      <th>Código INEP</th>\n",
       "      <th>UF</th>\n",
       "      <th>Município</th>\n",
       "      <th>Localização</th>\n",
       "      <th>Localidade Diferenciada</th>\n",
       "      <th>Categoria Administrativa</th>\n",
       "      <th>Endereço</th>\n",
       "      <th>Telefone</th>\n",
       "      <th>Dependência Administrativa</th>\n",
       "      <th>Categoria Escola Privada</th>\n",
       "      <th>Conveniada Poder Público</th>\n",
       "      <th>Regulamentação pelo Conselho de Educação</th>\n",
       "      <th>Porte da Escola</th>\n",
       "      <th>Etapas e Modalidade de Ensino Oferecidas</th>\n",
       "      <th>Outras Ofertas Educacionais</th>\n",
       "      <th>Latitude</th>\n",
       "      <th>Longitude</th>\n",
       "    </tr>\n",
       "  </thead>\n",
       "  <tbody>\n",
       "    <tr>\n",
       "      <th>0</th>\n",
       "      <td>ESCOLA EM FUNCIONAMENTO E SEM RESTRIÇÃO DE ATE...</td>\n",
       "      <td>COLEGIO TIRADENTES PELOTAS</td>\n",
       "      <td>43000304</td>\n",
       "      <td>RS</td>\n",
       "      <td>Pelotas</td>\n",
       "      <td>Urbana</td>\n",
       "      <td>A escola não está em área de localização difer...</td>\n",
       "      <td>Pública</td>\n",
       "      <td>AV DUQUE DE CAXIAS 546, 546 FRAGATA. 96030-003...</td>\n",
       "      <td>(53) 32812866</td>\n",
       "      <td>Estadual</td>\n",
       "      <td>Não Informado</td>\n",
       "      <td>Não</td>\n",
       "      <td>Sim</td>\n",
       "      <td>Entre 201 e 500 matrículas de escolarização</td>\n",
       "      <td>Ensino Médio</td>\n",
       "      <td>NaN</td>\n",
       "      <td>-31.75701</td>\n",
       "      <td>-52.37308</td>\n",
       "    </tr>\n",
       "    <tr>\n",
       "      <th>1</th>\n",
       "      <td>ESCOLA PARALISADA</td>\n",
       "      <td>EEI NOSSOS AMIGUINHOS</td>\n",
       "      <td>43001084</td>\n",
       "      <td>RS</td>\n",
       "      <td>Pelotas</td>\n",
       "      <td>Urbana</td>\n",
       "      <td>Não Informado</td>\n",
       "      <td>Privada</td>\n",
       "      <td>RUA VOLUNTARIOS DA PATRIA, 1927. CENTRO. 96015...</td>\n",
       "      <td>(53) 30256230</td>\n",
       "      <td>Privada</td>\n",
       "      <td>Não Informado</td>\n",
       "      <td>Não</td>\n",
       "      <td>NaN</td>\n",
       "      <td>NaN</td>\n",
       "      <td>NaN</td>\n",
       "      <td>NaN</td>\n",
       "      <td>NaN</td>\n",
       "      <td>NaN</td>\n",
       "    </tr>\n",
       "    <tr>\n",
       "      <th>2</th>\n",
       "      <td>ESCOLA EM FUNCIONAMENTO E SEM RESTRIÇÃO DE ATE...</td>\n",
       "      <td>EEI CRIANCA AMADA</td>\n",
       "      <td>43001165</td>\n",
       "      <td>RS</td>\n",
       "      <td>Pelotas</td>\n",
       "      <td>Urbana</td>\n",
       "      <td>A escola não está em área de localização difer...</td>\n",
       "      <td>Privada</td>\n",
       "      <td>AVENIDA DOMINGOS JOSE DE ALMEIDA, 1077 AREAL. ...</td>\n",
       "      <td>(53) 30282009</td>\n",
       "      <td>Privada</td>\n",
       "      <td>Particular</td>\n",
       "      <td>Não</td>\n",
       "      <td>Sim</td>\n",
       "      <td>Entre 51 e 200 matrículas de escolarização</td>\n",
       "      <td>Educação Infantil</td>\n",
       "      <td>NaN</td>\n",
       "      <td>NaN</td>\n",
       "      <td>NaN</td>\n",
       "    </tr>\n",
       "    <tr>\n",
       "      <th>3</th>\n",
       "      <td>ESCOLA EM FUNCIONAMENTO E SEM RESTRIÇÃO DE ATE...</td>\n",
       "      <td>EEI MUNDO DO MICKEY</td>\n",
       "      <td>43001173</td>\n",
       "      <td>RS</td>\n",
       "      <td>Pelotas</td>\n",
       "      <td>Urbana</td>\n",
       "      <td>A escola não está em área de localização difer...</td>\n",
       "      <td>Privada</td>\n",
       "      <td>RUA BALDOMERO TRAPAGA, 132 PORTO. 96075-540 Pe...</td>\n",
       "      <td>(53) 32279908</td>\n",
       "      <td>Privada</td>\n",
       "      <td>Particular</td>\n",
       "      <td>Não</td>\n",
       "      <td>Sim</td>\n",
       "      <td>Até 50 matrículas de escolarização</td>\n",
       "      <td>Educação Infantil</td>\n",
       "      <td>NaN</td>\n",
       "      <td>-31.77139</td>\n",
       "      <td>-52.32994</td>\n",
       "    </tr>\n",
       "    <tr>\n",
       "      <th>4</th>\n",
       "      <td>ESCOLA EM FUNCIONAMENTO E SEM RESTRIÇÃO DE ATE...</td>\n",
       "      <td>EEI CHAPEUZINHO VERMELHO</td>\n",
       "      <td>43002145</td>\n",
       "      <td>RS</td>\n",
       "      <td>Pelotas</td>\n",
       "      <td>Urbana</td>\n",
       "      <td>A escola não está em área de localização difer...</td>\n",
       "      <td>Privada</td>\n",
       "      <td>RUA BARAO DE SANTA TECLA, 621 CENTRO. 96010-14...</td>\n",
       "      <td>(53) 81265782</td>\n",
       "      <td>Privada</td>\n",
       "      <td>Particular</td>\n",
       "      <td>Não</td>\n",
       "      <td>Sim</td>\n",
       "      <td>Até 50 matrículas de escolarização</td>\n",
       "      <td>Educação Infantil</td>\n",
       "      <td>NaN</td>\n",
       "      <td>-31.76221</td>\n",
       "      <td>-52.34358</td>\n",
       "    </tr>\n",
       "  </tbody>\n",
       "</table>\n",
       "</div>"
      ],
      "text/plain": [
       "                            Restrição de Atendimento  \\\n",
       "0  ESCOLA EM FUNCIONAMENTO E SEM RESTRIÇÃO DE ATE...   \n",
       "1                                  ESCOLA PARALISADA   \n",
       "2  ESCOLA EM FUNCIONAMENTO E SEM RESTRIÇÃO DE ATE...   \n",
       "3  ESCOLA EM FUNCIONAMENTO E SEM RESTRIÇÃO DE ATE...   \n",
       "4  ESCOLA EM FUNCIONAMENTO E SEM RESTRIÇÃO DE ATE...   \n",
       "\n",
       "                       Escola  Código INEP  UF Município Localização  \\\n",
       "0  COLEGIO TIRADENTES PELOTAS     43000304  RS   Pelotas      Urbana   \n",
       "1       EEI NOSSOS AMIGUINHOS     43001084  RS   Pelotas      Urbana   \n",
       "2           EEI CRIANCA AMADA     43001165  RS   Pelotas      Urbana   \n",
       "3         EEI MUNDO DO MICKEY     43001173  RS   Pelotas      Urbana   \n",
       "4    EEI CHAPEUZINHO VERMELHO     43002145  RS   Pelotas      Urbana   \n",
       "\n",
       "                             Localidade Diferenciada Categoria Administrativa  \\\n",
       "0  A escola não está em área de localização difer...                  Pública   \n",
       "1                                      Não Informado                  Privada   \n",
       "2  A escola não está em área de localização difer...                  Privada   \n",
       "3  A escola não está em área de localização difer...                  Privada   \n",
       "4  A escola não está em área de localização difer...                  Privada   \n",
       "\n",
       "                                            Endereço       Telefone  \\\n",
       "0  AV DUQUE DE CAXIAS 546, 546 FRAGATA. 96030-003...  (53) 32812866   \n",
       "1  RUA VOLUNTARIOS DA PATRIA, 1927. CENTRO. 96015...  (53) 30256230   \n",
       "2  AVENIDA DOMINGOS JOSE DE ALMEIDA, 1077 AREAL. ...  (53) 30282009   \n",
       "3  RUA BALDOMERO TRAPAGA, 132 PORTO. 96075-540 Pe...  (53) 32279908   \n",
       "4  RUA BARAO DE SANTA TECLA, 621 CENTRO. 96010-14...  (53) 81265782   \n",
       "\n",
       "  Dependência Administrativa Categoria Escola Privada  \\\n",
       "0                   Estadual            Não Informado   \n",
       "1                    Privada            Não Informado   \n",
       "2                    Privada               Particular   \n",
       "3                    Privada               Particular   \n",
       "4                    Privada               Particular   \n",
       "\n",
       "  Conveniada Poder Público Regulamentação pelo Conselho de Educação  \\\n",
       "0                      Não                                      Sim   \n",
       "1                      Não                                      NaN   \n",
       "2                      Não                                      Sim   \n",
       "3                      Não                                      Sim   \n",
       "4                      Não                                      Sim   \n",
       "\n",
       "                               Porte da Escola  \\\n",
       "0  Entre 201 e 500 matrículas de escolarização   \n",
       "1                                          NaN   \n",
       "2   Entre 51 e 200 matrículas de escolarização   \n",
       "3           Até 50 matrículas de escolarização   \n",
       "4           Até 50 matrículas de escolarização   \n",
       "\n",
       "  Etapas e Modalidade de Ensino Oferecidas Outras Ofertas Educacionais  \\\n",
       "0                             Ensino Médio                         NaN   \n",
       "1                                      NaN                         NaN   \n",
       "2                        Educação Infantil                         NaN   \n",
       "3                        Educação Infantil                         NaN   \n",
       "4                        Educação Infantil                         NaN   \n",
       "\n",
       "   Latitude  Longitude  \n",
       "0 -31.75701  -52.37308  \n",
       "1       NaN        NaN  \n",
       "2       NaN        NaN  \n",
       "3 -31.77139  -52.32994  \n",
       "4 -31.76221  -52.34358  "
      ]
     },
     "execution_count": 5,
     "metadata": {},
     "output_type": "execute_result"
    }
   ],
   "source": [
    "infoSchools.head()"
   ]
  },
  {
   "cell_type": "code",
   "execution_count": 6,
   "metadata": {},
   "outputs": [
    {
     "data": {
      "text/plain": [
       "(302, 19)"
      ]
     },
     "execution_count": 6,
     "metadata": {},
     "output_type": "execute_result"
    }
   ],
   "source": [
    "infoSchools.shape"
   ]
  },
  {
   "cell_type": "code",
   "execution_count": 7,
   "metadata": {},
   "outputs": [
    {
     "name": "stdout",
     "output_type": "stream",
     "text": [
      "<class 'pandas.core.frame.DataFrame'>\n",
      "RangeIndex: 302 entries, 0 to 301\n",
      "Data columns (total 19 columns):\n",
      " #   Column                                    Non-Null Count  Dtype  \n",
      "---  ------                                    --------------  -----  \n",
      " 0   Restrição de Atendimento                  302 non-null    object \n",
      " 1   Escola                                    302 non-null    object \n",
      " 2   Código INEP                               302 non-null    int64  \n",
      " 3   UF                                        302 non-null    object \n",
      " 4   Município                                 302 non-null    object \n",
      " 5   Localização                               302 non-null    object \n",
      " 6   Localidade Diferenciada                   302 non-null    object \n",
      " 7   Categoria Administrativa                  302 non-null    object \n",
      " 8   Endereço                                  302 non-null    object \n",
      " 9   Telefone                                  292 non-null    object \n",
      " 10  Dependência Administrativa                302 non-null    object \n",
      " 11  Categoria Escola Privada                  302 non-null    object \n",
      " 12  Conveniada Poder Público                  302 non-null    object \n",
      " 13  Regulamentação pelo Conselho de Educação  239 non-null    object \n",
      " 14  Porte da Escola                           239 non-null    object \n",
      " 15  Etapas e Modalidade de Ensino Oferecidas  236 non-null    object \n",
      " 16  Outras Ofertas Educacionais               90 non-null     object \n",
      " 17  Latitude                                  198 non-null    float64\n",
      " 18  Longitude                                 198 non-null    float64\n",
      "dtypes: float64(2), int64(1), object(16)\n",
      "memory usage: 45.0+ KB\n"
     ]
    }
   ],
   "source": [
    "infoSchools.info()"
   ]
  },
  {
   "cell_type": "code",
   "execution_count": 8,
   "metadata": {},
   "outputs": [
    {
     "data": {
      "text/plain": [
       "Restrição de Atendimento                      0\n",
       "Escola                                        0\n",
       "Código INEP                                   0\n",
       "UF                                            0\n",
       "Município                                     0\n",
       "Localização                                   0\n",
       "Localidade Diferenciada                       0\n",
       "Categoria Administrativa                      0\n",
       "Endereço                                      0\n",
       "Telefone                                     10\n",
       "Dependência Administrativa                    0\n",
       "Categoria Escola Privada                      0\n",
       "Conveniada Poder Público                      0\n",
       "Regulamentação pelo Conselho de Educação     63\n",
       "Porte da Escola                              63\n",
       "Etapas e Modalidade de Ensino Oferecidas     66\n",
       "Outras Ofertas Educacionais                 212\n",
       "Latitude                                    104\n",
       "Longitude                                   104\n",
       "dtype: int64"
      ]
     },
     "execution_count": 8,
     "metadata": {},
     "output_type": "execute_result"
    }
   ],
   "source": [
    "infoSchools.isnull().sum()"
   ]
  },
  {
   "cell_type": "markdown",
   "metadata": {},
   "source": [
    "### Transformação dos dados"
   ]
  },
  {
   "cell_type": "markdown",
   "metadata": {},
   "source": [
    "* Processo de Geocoding (Não funcional):"
   ]
  },
  {
   "cell_type": "code",
   "execution_count": 9,
   "metadata": {},
   "outputs": [
    {
     "data": {
      "text/plain": [
       "'AVENIDA DOMINGOS JOSE DE ALMEIDA, 1077 AREAL. 96085-470 Pelotas - RS.'"
      ]
     },
     "execution_count": 9,
     "metadata": {},
     "output_type": "execute_result"
    }
   ],
   "source": [
    "infoSchools[\"Endereço\"][2]"
   ]
  },
  {
   "cell_type": "code",
   "execution_count": null,
   "metadata": {},
   "outputs": [],
   "source": [
    "geolocator = Nominatim(user_agent = \"ScoolarData\")\n",
    "latitude = []\n",
    "longitude = []\n",
    "\n",
    "for local in infoSchools[\"Endereço\"]:\n",
    "    try:\n",
    "        location = geolocator.geocode(local)\n",
    "        latitude.append(location.latitude)\n",
    "        longitude.append(location.longitude)\n",
    "    except:\n",
    "        continue"
   ]
  },
  {
   "cell_type": "markdown",
   "metadata": {},
   "source": [
    "* Conversão do *dataframe* para json:"
   ]
  },
  {
   "cell_type": "code",
   "execution_count": 16,
   "metadata": {},
   "outputs": [
    {
     "data": {
      "text/plain": [
       "{'Restrição de Atendimento': 'ESCOLA PARALISADA',\n",
       " 'Escola': 'EEI NOSSOS AMIGUINHOS',\n",
       " 'Código INEP': 43001084,\n",
       " 'UF': 'RS',\n",
       " 'Município': 'Pelotas',\n",
       " 'Localização': 'Urbana',\n",
       " 'Localidade Diferenciada': 'Não Informado',\n",
       " 'Categoria Administrativa': 'Privada',\n",
       " 'Endereço': 'RUA VOLUNTARIOS DA PATRIA, 1927. CENTRO. 96015-730 Pelotas - RS.',\n",
       " 'Telefone': '(53) 30256230',\n",
       " 'Dependência Administrativa': 'Privada',\n",
       " 'Categoria Escola Privada': 'Não Informado',\n",
       " 'Conveniada Poder Público': 'Não',\n",
       " 'Regulamentação pelo Conselho de Educação': None,\n",
       " 'Porte da Escola': None,\n",
       " 'Etapas e Modalidade de Ensino Oferecidas': None,\n",
       " 'Outras Ofertas Educacionais': None,\n",
       " 'Latitude': None,\n",
       " 'Longitude': None}"
      ]
     },
     "execution_count": 16,
     "metadata": {},
     "output_type": "execute_result"
    }
   ],
   "source": [
    "schoolData = dataframeToJSONConverter (infoSchools)\n",
    "schoolData[1]"
   ]
  },
  {
   "cell_type": "markdown",
   "metadata": {},
   "source": [
    "### Carregamento dos dados"
   ]
  },
  {
   "cell_type": "markdown",
   "metadata": {},
   "source": [
    "* Inserindo no Banco de Dados (MongoDB)"
   ]
  },
  {
   "cell_type": "code",
   "execution_count": 13,
   "metadata": {},
   "outputs": [
    {
     "data": {
      "text/plain": [
       "<pymongo.results.InsertManyResult at 0x26de82afa48>"
      ]
     },
     "execution_count": 13,
     "metadata": {},
     "output_type": "execute_result"
    }
   ],
   "source": [
    "collection.insert_many(schoolData)"
   ]
  },
  {
   "cell_type": "code",
   "execution_count": 14,
   "metadata": {},
   "outputs": [
    {
     "data": {
      "text/plain": [
       "{'_id': ObjectId('5f2620d181e7e7953bdb84af'),\n",
       " 'Restrição de Atendimento': 'ESCOLA EM FUNCIONAMENTO E SEM RESTRIÇÃO DE ATENDIMENTO',\n",
       " 'Escola': 'COLEGIO TIRADENTES PELOTAS',\n",
       " 'Código INEP': 43000304,\n",
       " 'UF': 'RS',\n",
       " 'Município': 'Pelotas',\n",
       " 'Localização': 'Urbana',\n",
       " 'Localidade Diferenciada': 'A escola não está em área de localização diferenciada',\n",
       " 'Categoria Administrativa': 'Pública',\n",
       " 'Endereço': 'AV DUQUE DE CAXIAS 546, 546 FRAGATA. 96030-003 Pelotas - RS.',\n",
       " 'Telefone': '(53) 32812866',\n",
       " 'Dependência Administrativa': 'Estadual',\n",
       " 'Categoria Escola Privada': 'Não Informado',\n",
       " 'Conveniada Poder Público': 'Não',\n",
       " 'Regulamentação pelo Conselho de Educação': 'Sim',\n",
       " 'Porte da Escola': 'Entre 201 e 500 matrículas de escolarização',\n",
       " 'Etapas e Modalidade de Ensino Oferecidas': 'Ensino Médio',\n",
       " 'Outras Ofertas Educacionais': None,\n",
       " 'Latitude': -31.75701,\n",
       " 'Longitude': -52.37308}"
      ]
     },
     "execution_count": 14,
     "metadata": {},
     "output_type": "execute_result"
    }
   ],
   "source": [
    "collection.find_one({\"Código INEP\": 43000304})"
   ]
  }
 ],
 "metadata": {
  "kernelspec": {
   "display_name": "Python 3",
   "language": "python",
   "name": "python3"
  },
  "language_info": {
   "codemirror_mode": {
    "name": "ipython",
    "version": 3
   },
   "file_extension": ".py",
   "mimetype": "text/x-python",
   "name": "python",
   "nbconvert_exporter": "python",
   "pygments_lexer": "ipython3",
   "version": "3.7.1"
  }
 },
 "nbformat": 4,
 "nbformat_minor": 4
}
